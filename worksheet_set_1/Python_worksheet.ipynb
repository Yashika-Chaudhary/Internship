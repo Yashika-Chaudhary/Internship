{
 "cells": [
  {
   "cell_type": "markdown",
   "id": "b028ce9c",
   "metadata": {},
   "source": [
    "# Q11. Write a python program to find the factorial of a number."
   ]
  },
  {
   "cell_type": "code",
   "execution_count": 1,
   "id": "d5f6da2e",
   "metadata": {},
   "outputs": [
    {
     "name": "stdout",
     "output_type": "stream",
     "text": [
      "Enter a number: 5\n",
      "The factorial of 5 is 120\n"
     ]
    }
   ],
   "source": [
    "num = int(input(\"Enter a number: \"))\n",
    "\n",
    "factorial = 1\n",
    "\n",
    "if num < 0:\n",
    "    print(\"Sorry, factorial does not exist for negative numbers.\")\n",
    "elif num == 0:\n",
    "    print(\"The factorial of 0 is 1.\")\n",
    "else:\n",
    "    # calculate the factorial using a for loop\n",
    "    for i in range(1, num + 1):\n",
    "        factorial = factorial * i\n",
    "    print(\"The factorial of\", num, \"is\", factorial)"
   ]
  },
  {
   "cell_type": "markdown",
   "id": "579271e0",
   "metadata": {},
   "source": [
    "# Q12. Write a python program to find whether a number is prime or composite."
   ]
  },
  {
   "cell_type": "code",
   "execution_count": 2,
   "id": "43f41cf5",
   "metadata": {},
   "outputs": [
    {
     "name": "stdout",
     "output_type": "stream",
     "text": [
      "Enter a number: 13\n",
      "13 is a prime number\n"
     ]
    }
   ],
   "source": [
    "\n",
    "num = int(input(\"Enter a number: \"))\n",
    "\n",
    "if num <= 1:\n",
    "    print(num, \"is neither prime nor composite\")\n",
    "else:\n",
    "    for i in range(2, num):\n",
    "        if num % i == 0:\n",
    "            print(num, \"is a composite number\")\n",
    "            break\n",
    "    else:\n",
    "        print(num, \"is a prime number\")"
   ]
  },
  {
   "cell_type": "markdown",
   "id": "391a5857",
   "metadata": {},
   "source": [
    "# Q13. Write a python program to check whether a given string is palindrome or not"
   ]
  },
  {
   "cell_type": "code",
   "execution_count": 3,
   "id": "1df9271c",
   "metadata": {},
   "outputs": [
    {
     "name": "stdout",
     "output_type": "stream",
     "text": [
      "Enter a string to check-:Mom\n",
      "The string is a palindrome\n"
     ]
    }
   ],
   "source": [
    "def is_palindrome(string):\n",
    "    string = string.lower()\n",
    "    if(string==string[::-1]):\n",
    "        print(\"The string is a palindrome\")\n",
    "    else:\n",
    "        print(\"The string is not a palindrome\")\n",
    "string1=input((\"Enter a string to check-:\"))\n",
    "is_palindrome(string1)"
   ]
  },
  {
   "cell_type": "markdown",
   "id": "f97e35d3",
   "metadata": {},
   "source": [
    "# Q14. Write a Python program to get the third side of right-angled triangle from two given sides."
   ]
  },
  {
   "cell_type": "code",
   "execution_count": 4,
   "id": "17c7dac2",
   "metadata": {},
   "outputs": [
    {
     "name": "stdout",
     "output_type": "stream",
     "text": [
      "Enter the length of first side: 6\n",
      "Enter the length of second side: 8\n",
      "The length of the third side is: 10.0\n"
     ]
    }
   ],
   "source": [
    "import math\n",
    "\n",
    "# Input the lengths of two sides of the right-angled triangle\n",
    "a = float(input(\"Enter the length of first side: \"))\n",
    "b = float(input(\"Enter the length of second side: \"))\n",
    "\n",
    "# Calculate the length of the third side using the Pythagorean theorem\n",
    "c = math.sqrt(a**2 + b**2)\n",
    "\n",
    "# Print the length of the third side\n",
    "print(\"The length of the third side is:\", c)"
   ]
  },
  {
   "cell_type": "markdown",
   "id": "8edc5268",
   "metadata": {},
   "source": [
    "# Q15. Write a python program to print the frequency of each of the characters present in a given string."
   ]
  },
  {
   "cell_type": "code",
   "execution_count": 5,
   "id": "28c314a7",
   "metadata": {},
   "outputs": [
    {
     "name": "stdout",
     "output_type": "stream",
     "text": [
      "Enter a string: fliprobo\n",
      "f : 1\n",
      "l : 1\n",
      "i : 1\n",
      "p : 1\n",
      "r : 1\n",
      "o : 2\n",
      "b : 1\n"
     ]
    }
   ],
   "source": [
    "string = input(\"Enter a string: \")\n",
    "\n",
    "count = {} \n",
    "\n",
    "for char in string:\n",
    "    if char in count:\n",
    "        count[char] += 1  \n",
    "    else:\n",
    "        count[char] = 1 \n",
    "\n",
    "# print the count of each character in a given string\n",
    "for char in count:\n",
    "    print(char, \":\", count[char])"
   ]
  },
  {
   "cell_type": "code",
   "execution_count": null,
   "id": "5c5eef80",
   "metadata": {},
   "outputs": [],
   "source": []
  }
 ],
 "metadata": {
  "kernelspec": {
   "display_name": "Python 3 (ipykernel)",
   "language": "python",
   "name": "python3"
  },
  "language_info": {
   "codemirror_mode": {
    "name": "ipython",
    "version": 3
   },
   "file_extension": ".py",
   "mimetype": "text/x-python",
   "name": "python",
   "nbconvert_exporter": "python",
   "pygments_lexer": "ipython3",
   "version": "3.9.13"
  }
 },
 "nbformat": 4,
 "nbformat_minor": 5
}
