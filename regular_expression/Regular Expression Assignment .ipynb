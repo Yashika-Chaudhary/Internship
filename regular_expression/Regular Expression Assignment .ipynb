{
 "cells": [
  {
   "cell_type": "code",
   "execution_count": 2,
   "id": "91f3c2b6",
   "metadata": {},
   "outputs": [],
   "source": [
    "import regex as re\n",
    "from IPython.utils.text import string"
   ]
  },
  {
   "cell_type": "markdown",
   "id": "9e2d9971",
   "metadata": {},
   "source": [
    "Question 1- Write a Python program to check that a string contains only a certain set of characters (in this case a-z, A-Z and 0-9). "
   ]
  },
  {
   "cell_type": "code",
   "execution_count": 29,
   "id": "e29929df",
   "metadata": {},
   "outputs": [
    {
     "name": "stdout",
     "output_type": "stream",
     "text": [
      "Enter the string: Pythonprogram123\n",
      "\u001b[1mThe string contains alphanumeric characters only\n"
     ]
    }
   ],
   "source": [
    "def check_string(string):\n",
    "    pattern = r'^[a-zA-Z0-9]+$'\n",
    "    if re.match(pattern,string):\n",
    "        print(\"\\033[1mThe string contains alphanumeric characters only\")\n",
    "    else:\n",
    "        print(\"\\033[1mThe string contains other special characters.\")\n",
    "\n",
    "string = input(\"\\033[1mEnter the string: \")\n",
    "check_string(string)"
   ]
  },
  {
   "cell_type": "markdown",
   "id": "d2555a30",
   "metadata": {},
   "source": [
    "Question 2- Create a function in python that matches a string that has an a followed by zero or more b's"
   ]
  },
  {
   "cell_type": "code",
   "execution_count": 57,
   "id": "4f00c1b2",
   "metadata": {},
   "outputs": [
    {
     "name": "stdout",
     "output_type": "stream",
     "text": [
      "Enter the string: abbbb\n",
      "\u001b[1mThe string matches a followed by zero or more b's pattern\n"
     ]
    }
   ],
   "source": [
    "def check_string(string):\n",
    "    pattern = r'a(b*)'\n",
    "    if re.fullmatch(pattern,string):\n",
    "        print(\"\\033[1mThe string matches a followed by zero or more b's pattern\")\n",
    "    else:\n",
    "        print(\"\\033[1mThe string not matched a followed by zero or more b's pattern\")\n",
    "string = input(\"\\033[1mEnter the string: \")\n",
    "check_string(string)"
   ]
  },
  {
   "cell_type": "markdown",
   "id": "128abca9",
   "metadata": {},
   "source": [
    "Question 3-  Create a function in python that matches a string that has an a followed by one or more b's"
   ]
  },
  {
   "cell_type": "code",
   "execution_count": 69,
   "id": "81c414e2",
   "metadata": {},
   "outputs": [
    {
     "name": "stdout",
     "output_type": "stream",
     "text": [
      "Enter the string: abbb\n",
      "\u001b[1mThe string matches a followed by one or more b's pattern\n"
     ]
    }
   ],
   "source": [
    "def check_string(string):\n",
    "    pattern = r'a(b+)'\n",
    "    if re.fullmatch(pattern,string):\n",
    "        print(\"\\033[1mThe string matches a followed by one or more b's pattern\")\n",
    "    else:\n",
    "        print(\"\\033[1mThe string not matched a followed by one or more b's pattern\")\n",
    "string = input(\"\\033[1mEnter the string: \")\n",
    "check_string(string)"
   ]
  },
  {
   "cell_type": "markdown",
   "id": "d96b4605",
   "metadata": {},
   "source": [
    "Question 4- Create a function in Python and use RegEx that matches a string that has an a followed by zero or one 'b'."
   ]
  },
  {
   "cell_type": "code",
   "execution_count": 84,
   "id": "6897998f",
   "metadata": {},
   "outputs": [
    {
     "name": "stdout",
     "output_type": "stream",
     "text": [
      "Enter the string: ab\n",
      "\u001b[1mThe string matches a followed by zero or one b's pattern\n"
     ]
    }
   ],
   "source": [
    "def check_string(string):\n",
    "    pattern = r'a(b?)'\n",
    "    if re.fullmatch(pattern,string):\n",
    "        print(\"\\033[1mThe string matches a followed by zero or one b's pattern\")\n",
    "    else:\n",
    "        print(\"\\033[1mThe string not matched a followed by zero or one b's pattern\")\n",
    "string = input(\"\\033[1mEnter the string: \")\n",
    "check_string(string)"
   ]
  },
  {
   "cell_type": "markdown",
   "id": "b71a7939",
   "metadata": {},
   "source": [
    "Question 5- Write a Python program that matches a string that has an a followed by three 'b'."
   ]
  },
  {
   "cell_type": "code",
   "execution_count": 89,
   "id": "b4bc5176",
   "metadata": {},
   "outputs": [
    {
     "name": "stdout",
     "output_type": "stream",
     "text": [
      "Enter the string: abbb\n",
      "\u001b[1mThe string matches a followed by exactly three b's pattern\n"
     ]
    }
   ],
   "source": [
    "def check_string(string):\n",
    "    pattern = r'ab{3}'\n",
    "    if re.fullmatch(pattern,string):\n",
    "        print(\"\\033[1mThe string matches a followed by exactly three b's pattern\")\n",
    "    else:\n",
    "        print(\"\\033[1mThe string not matched a followed by exactly three b's pattern\")\n",
    "string = input(\"\\033[1mEnter the string: \")\n",
    "check_string(string)"
   ]
  },
  {
   "cell_type": "markdown",
   "id": "9097df87",
   "metadata": {},
   "source": [
    "Question 6- Write a regular expression in Python to split a string into uppercase letters.\n",
    "Sample text: “ImportanceOfRegularExpressionsInPython”\n",
    "Output: [‘Importance’, ‘Of’, ‘Regular’, ‘Expression’, ‘In’, ‘Python’]"
   ]
  },
  {
   "cell_type": "code",
   "execution_count": 95,
   "id": "8ebbc2b1",
   "metadata": {},
   "outputs": [
    {
     "name": "stdout",
     "output_type": "stream",
     "text": [
      "Enter the string: ImportanceOfRegularExpressionsInPython\n",
      "\u001b[1mOutput: ['Importance', 'Of', 'Regular', 'Expressions', 'In', 'Python']\n"
     ]
    }
   ],
   "source": [
    "def split_string(string):\n",
    "    pattern = r'[A-Z][a-z]*'\n",
    "    output = re.findall(pattern,string)\n",
    "    print('\\033[1mOutput:',output)\n",
    "string = input(\"\\033[1mEnter the string: \")\n",
    "split_string(string)"
   ]
  },
  {
   "cell_type": "markdown",
   "id": "7c5c7bbe",
   "metadata": {},
   "source": [
    "Question 7- Write a Python program that matches a string that has an a followed by two to three 'b'."
   ]
  },
  {
   "cell_type": "code",
   "execution_count": 101,
   "id": "57b75f87",
   "metadata": {},
   "outputs": [
    {
     "name": "stdout",
     "output_type": "stream",
     "text": [
      "Enter the string: abb\n",
      "\u001b[1mThe string matches a followed by two to three b's pattern\n"
     ]
    }
   ],
   "source": [
    "def check_string(string):\n",
    "    pattern = r'ab{2,3}'\n",
    "    if re.fullmatch(pattern,string):\n",
    "        print(\"\\033[1mThe string matches a followed by two to three b's pattern\")\n",
    "    else:\n",
    "        print(\"\\033[1mThe string not matched a followed by two to three b's pattern\")\n",
    "string = input(\"\\033[1mEnter the string: \")\n",
    "check_string(string)"
   ]
  },
  {
   "cell_type": "markdown",
   "id": "7eea19b0",
   "metadata": {},
   "source": [
    "Question 8- Write a Python program to find sequences of lowercase letters joined with a underscore."
   ]
  },
  {
   "cell_type": "code",
   "execution_count": 114,
   "id": "b9cdc103",
   "metadata": {},
   "outputs": [
    {
     "name": "stdout",
     "output_type": "stream",
     "text": [
      "Enter the string: abc_def_ghj\n",
      "\u001b[1mOutput: ['abc_def_ghj']\n"
     ]
    }
   ],
   "source": [
    "def str_sequence(string):\n",
    "    pattern = r'[a-z]+(?:_[a-z]+)+'\n",
    "    output = re.findall(pattern,string)\n",
    "    print('\\033[1mOutput:',output)\n",
    "string = input(\"\\033[1mEnter the string: \")\n",
    "str_sequence(string)"
   ]
  },
  {
   "cell_type": "markdown",
   "id": "0262b1e8",
   "metadata": {},
   "source": [
    "Question 9- Write a Python program that matches a string that has an 'a' followed by anything, ending in 'b'."
   ]
  },
  {
   "cell_type": "code",
   "execution_count": 119,
   "id": "757991b6",
   "metadata": {},
   "outputs": [
    {
     "name": "stdout",
     "output_type": "stream",
     "text": [
      "Enter the string: axyzb\n",
      "\u001b[1mThe string matches a followed by anything, ending in b pattern\n"
     ]
    }
   ],
   "source": [
    "def check_string(string):\n",
    "    pattern =r'\\ba.*b$'\n",
    "    if re.fullmatch(pattern,string):\n",
    "        print(\"\\033[1mThe string matches a followed by anything, ending in b pattern\")\n",
    "    else:\n",
    "        print(\"\\033[1mThe string not matched a followed by anything, ending in b pattern\")\n",
    "string = input(\"\\033[1mEnter the string: \")\n",
    "check_string(string)"
   ]
  },
  {
   "cell_type": "markdown",
   "id": "26f30bef",
   "metadata": {},
   "source": [
    "Question 10- Write a Python program that matches a word at the beginning of a string."
   ]
  },
  {
   "cell_type": "code",
   "execution_count": 120,
   "id": "431ad29d",
   "metadata": {},
   "outputs": [
    {
     "name": "stdout",
     "output_type": "stream",
     "text": [
      "Enter the string: Learn python\n",
      "\u001b[1mWord at the beginning of a string. ['Learn']\n"
     ]
    }
   ],
   "source": [
    "def first_word(string):\n",
    "    pattern = r\"^\\w+\"\n",
    "    output = re.findall(pattern,string)\n",
    "    print('\\033[1mWord at the beginning of a string.',output)\n",
    "string = input(\"\\033[1mEnter the string: \")\n",
    "first_word(string)"
   ]
  },
  {
   "cell_type": "markdown",
   "id": "a6e91242",
   "metadata": {},
   "source": [
    "Question 11- Write a Python program to match a string that contains only upper and lowercase letters, numbers, and underscores."
   ]
  },
  {
   "cell_type": "code",
   "execution_count": 124,
   "id": "122ca927",
   "metadata": {},
   "outputs": [
    {
     "name": "stdout",
     "output_type": "stream",
     "text": [
      "Enter the string: Python_program123\n",
      "\u001b[1mThe string contains alphanumeric characters and underscore only\n"
     ]
    }
   ],
   "source": [
    "def check_string(string):\n",
    "    pattern = r'^[a-zA-Z0-9_]+$'\n",
    "    if re.fullmatch(pattern,string):\n",
    "        print(\"\\033[1mThe string contains alphanumeric characters and underscore only\")\n",
    "    else:\n",
    "        print(\"\\033[1mThe string contains other special characters.\")\n",
    "\n",
    "string = input(\"\\033[1mEnter the string: \")\n",
    "check_string(string)"
   ]
  },
  {
   "cell_type": "markdown",
   "id": "eb1b5c06",
   "metadata": {},
   "source": [
    "Question 12- Write a Python program where a string will start with a specific number. "
   ]
  },
  {
   "cell_type": "code",
   "execution_count": 135,
   "id": "77721ed6",
   "metadata": {},
   "outputs": [
    {
     "name": "stdout",
     "output_type": "stream",
     "text": [
      "Enter the number string must start with: 91\n",
      "Enter the string: 912345678\n",
      "\u001b[1mMatched: String start with specified number\n"
     ]
    }
   ],
   "source": [
    "def start_with(number,string):\n",
    "    pattern = r'^{}'.format(number)\n",
    "    if re.match(pattern, string):\n",
    "        print(\"\\033[1mMatched: String start with specified number\")\n",
    "    else:\n",
    "        print(\"\\033[1mNot matched: String start with another number\")\n",
    "number = input(\"\\033[1mEnter the number string must start with: \")\n",
    "string = input(\"\\033[1mEnter the string: \")\n",
    "start_with(number,string)"
   ]
  },
  {
   "cell_type": "markdown",
   "id": "4865f668",
   "metadata": {},
   "source": [
    "Question 13- Write a Python program to remove leading zeros from an IP address"
   ]
  },
  {
   "cell_type": "code",
   "execution_count": 133,
   "id": "50bf3b6c",
   "metadata": {},
   "outputs": [
    {
     "name": "stdout",
     "output_type": "stream",
     "text": [
      "Enter the IP address: 016.08.094.196\n",
      "\u001b[1mOutput: 16.8.94.196\n"
     ]
    }
   ],
   "source": [
    "def remove_zeros(ip):\n",
    "    pattern = r'\\b0+(\\d)'\n",
    "    output = re.sub(pattern,r'\\1',ip)\n",
    "    print('\\033[1mOutput:',output)\n",
    "ip = input(\"\\033[1mEnter the IP address: \")\n",
    "remove_zeros(ip)"
   ]
  },
  {
   "cell_type": "markdown",
   "id": "0f671271",
   "metadata": {},
   "source": [
    "Question 14- Write a regular expression in python to match a date string in the form of Month name followed by day number and year stored in a text file.\n",
    "Sample text : ' On August 15th 1947 that India was declared independent from British colonialism, and the reins of control were handed over to the leaders of the Country’.\n",
    "Output- August 15th 1947\n",
    "Hint- Use re.match() method here"
   ]
  },
  {
   "cell_type": "code",
   "execution_count": 163,
   "id": "b25013b5",
   "metadata": {},
   "outputs": [
    {
     "name": "stdout",
     "output_type": "stream",
     "text": [
      "\u001b[1mDate: August 15th 1947\n"
     ]
    }
   ],
   "source": [
    "def check_date(file):\n",
    "    with open(file,'r')as file:\n",
    "        string = file.read()\n",
    "    pattern = r'[A-Za-z]+\\s\\d+(?:st|nd|rd|th)\\s\\d{4}'\n",
    "    output = re.search(pattern,string)\n",
    "    print('\\033[1mDate:',output.group())\n",
    "file = 'date.txt'\n",
    "check_date(file)"
   ]
  },
  {
   "cell_type": "markdown",
   "id": "606fe507",
   "metadata": {},
   "source": [
    "Question 15- Write a Python program to search some literals strings in a string. Go to the editor\n",
    "Sample text : 'The quick brown fox jumps over the lazy dog.'\n",
    "Searched words : 'fox', 'dog', 'horse'"
   ]
  },
  {
   "cell_type": "code",
   "execution_count": 241,
   "id": "52068b60",
   "metadata": {},
   "outputs": [
    {
     "name": "stdout",
     "output_type": "stream",
     "text": [
      "Enter the string: The quick brown fox jumps over the lazy dog.\n",
      "Enter the search: fox dog\n",
      "\u001b[1mOutput: ['fox', 'dog']\n"
     ]
    }
   ],
   "source": [
    "def search_literals(string,search_word):\n",
    "    words_list = []\n",
    "    for word in search_word:\n",
    "        pattern = str(word)\n",
    "        match = re.search(pattern, string)\n",
    "        if match:\n",
    "            words_list.append(match.group())\n",
    "    return print(\"\\033[1mOutput:\",words_list)\n",
    "string = input(\"\\033[1mEnter the string: \")\n",
    "search_list= input(\"\\033[1mEnter the search: \")\n",
    "search_word = search_list.split(\" \")\n",
    "search_literals(string,search_word)"
   ]
  },
  {
   "cell_type": "markdown",
   "id": "1d9898f1",
   "metadata": {},
   "source": [
    "Question 16- Write a Python program to search a literals string in a string and also find the location within the original string where the pattern occurs\n",
    "Sample text : 'The quick brown fox jumps over the lazy dog.'\n",
    "Searched words : 'fox'"
   ]
  },
  {
   "cell_type": "code",
   "execution_count": 230,
   "id": "9f8b34a1",
   "metadata": {},
   "outputs": [
    {
     "name": "stdout",
     "output_type": "stream",
     "text": [
      "Enter the string: The quick brown fox jumps over the lazy dog\n",
      "Enter the sub string: fox\n",
      "\u001b[1mOutput: fox At position: 16 to 19\n"
     ]
    }
   ],
   "source": [
    "def check_sub(string,text):\n",
    "    pattern = str(string)\n",
    "    sub_string = re.finditer(pattern,text)\n",
    "    for i in sub_string:\n",
    "        print('\\033[1mOutput:',i.group(),'At position:',i.start(),'to',i.end())\n",
    "text = input(\"\\033[1mEnter the string: \")\n",
    "string = input (\"\\033[1mEnter the sub string: \")\n",
    "check_sub(string,text)"
   ]
  },
  {
   "cell_type": "markdown",
   "id": "6c14c2cc",
   "metadata": {},
   "source": [
    "Question 17- Write a Python program to find the substrings within a string.\n",
    "Sample text : 'Python exercises, PHP exercises, C# exercises'\n",
    "Pattern : 'exercises'."
   ]
  },
  {
   "cell_type": "code",
   "execution_count": 196,
   "id": "f397d07d",
   "metadata": {},
   "outputs": [
    {
     "name": "stdout",
     "output_type": "stream",
     "text": [
      "Enter the string: Python exercises, PHP exercises, C# exercises'\n",
      "Enter the sub string: exercises\n",
      "\u001b[1mOutput: exercises At position: 7 to 16\n",
      "\u001b[1mOutput: exercises At position: 22 to 31\n",
      "\u001b[1mOutput: exercises At position: 36 to 45\n"
     ]
    }
   ],
   "source": [
    "def check_substring(string,text):\n",
    "    pattern = str(string)\n",
    "    sub_string = re.finditer(pattern,text)\n",
    "    for i in sub_string:\n",
    "        print('\\033[1mOutput:',i.group(),'At position:',i.start(),'to',i.end())\n",
    "text = input(\"\\033[1mEnter the string: \")\n",
    "string = input (\"\\033[1mEnter the sub string: \")\n",
    "check_substring(string,text)"
   ]
  },
  {
   "cell_type": "markdown",
   "id": "13ac027f",
   "metadata": {},
   "source": [
    "Question 18- Write a Python program to find the occurrence and position of the substrings within a string."
   ]
  },
  {
   "cell_type": "code",
   "execution_count": 191,
   "id": "4b1f11a0",
   "metadata": {},
   "outputs": [
    {
     "name": "stdout",
     "output_type": "stream",
     "text": [
      "Enter the string:  The quick brown fox jumps over the lazy dog.\n",
      "Enter the sub string: fox\n",
      "\u001b[1mOutput: fox At position: 17 to 20\n"
     ]
    }
   ],
   "source": [
    "def check_substring(string,text):\n",
    "    pattern = str(string)\n",
    "    sub_string = re.finditer(pattern,text)\n",
    "    for i in sub_string:\n",
    "        print('\\033[1mOutput:',i.group(),'At position:',i.start(),'to',i.end())\n",
    "text = input(\"\\033[1mEnter the string: \")\n",
    "string = input (\"\\033[1mEnter the sub string: \")\n",
    "check_substring(string,text)"
   ]
  },
  {
   "cell_type": "markdown",
   "id": "0117f3b7",
   "metadata": {},
   "source": [
    "Question 19- Write a Python program to convert a date of yyyy-mm-dd format to dd-mm-yyyy format."
   ]
  },
  {
   "cell_type": "code",
   "execution_count": 198,
   "id": "22bacc5e",
   "metadata": {},
   "outputs": [
    {
     "name": "stdout",
     "output_type": "stream",
     "text": [
      "Enter any date in YYYY-MM-DD format: 1996-01-17\n",
      "\u001b[1mDate in DD-MM-YYYY format:  17-01-1996\n"
     ]
    }
   ],
   "source": [
    "def convert_date(date):\n",
    "    pattern = r\"(\\d{4})-(\\d{1,2})-(\\d{1,2})\"\n",
    "    output = re.sub(pattern,'\\\\3-\\\\2-\\\\1',date)\n",
    "    print('\\033[1mDate in DD-MM-YYYY format: ',output)\n",
    "date = input('\\033[1mEnter any date in YYYY-MM-DD format: ')\n",
    "convert_date(date)"
   ]
  },
  {
   "cell_type": "markdown",
   "id": "c904fe99",
   "metadata": {},
   "source": [
    "Question 20- Write a Python program to find all words starting with 'a' or 'e' in a given string."
   ]
  },
  {
   "cell_type": "code",
   "execution_count": 203,
   "id": "7390969d",
   "metadata": {},
   "outputs": [
    {
     "name": "stdout",
     "output_type": "stream",
     "text": [
      "Enter the string: an ant and elephant are friends.\n",
      "\u001b[1mAll words starting with a or e in a given string. ['an', 'ant', 'and', 'elephant', 'are']\n"
     ]
    }
   ],
   "source": [
    "def ae_word(string):\n",
    "    pattern = r\"\\b[a|e]\\w+\"\n",
    "    output = re.findall(pattern,string)\n",
    "    print('\\033[1mAll words starting with a or e in a given string.',output)\n",
    "string = input(\"\\033[1mEnter the string: \")\n",
    "ae_word(string)"
   ]
  },
  {
   "cell_type": "markdown",
   "id": "913a6d97",
   "metadata": {},
   "source": [
    "Question 21- Write a Python program to separate and print the numbers and their position of a given string."
   ]
  },
  {
   "cell_type": "code",
   "execution_count": 207,
   "id": "4f7e6c72",
   "metadata": {},
   "outputs": [
    {
     "name": "stdout",
     "output_type": "stream",
     "text": [
      "Enter the string: virat scored 100 runs in 150th match.\n",
      "\u001b[1m Number  100\n",
      "\u001b[0m Position at 13\n",
      "\u001b[1m Number  150\n",
      "\u001b[0m Position at 25\n"
     ]
    }
   ],
   "source": [
    "def print_no(string):\n",
    "    pattern = r\"\\d+\"\n",
    "    for match in re.finditer(pattern,string):\n",
    "        print('\\033[1m Number ',match.group())\n",
    "        print('\\033[0m Position at',match.start())\n",
    "string = input(\"\\033[1mEnter the string: \")\n",
    "print_no(string)"
   ]
  },
  {
   "cell_type": "markdown",
   "id": "03187723",
   "metadata": {},
   "source": [
    "Question 22- Write a regular expression in python program to extract maximum numeric value from a string"
   ]
  },
  {
   "cell_type": "code",
   "execution_count": 210,
   "id": "93c1ae70",
   "metadata": {},
   "outputs": [
    {
     "name": "stdout",
     "output_type": "stream",
     "text": [
      "Enter the string: 11 23 45 67 89 99\n",
      "\u001b[1mMaximum numeric value from the given string is  99\n"
     ]
    }
   ],
   "source": [
    "def max_no(string):\n",
    "    pattern = r\"\\d+\"\n",
    "    num = re.findall(pattern,string)\n",
    "    print('\\033[1mMaximum numeric value from the given string is ',max(num))\n",
    "string = input(\"\\033[1mEnter the string: \")\n",
    "max_no(string)"
   ]
  },
  {
   "cell_type": "markdown",
   "id": "d4a0887d",
   "metadata": {},
   "source": [
    "Question 23- Write a Regex in Python to put spaces between words starting with capital letters"
   ]
  },
  {
   "cell_type": "code",
   "execution_count": 211,
   "id": "016e5bda",
   "metadata": {},
   "outputs": [
    {
     "name": "stdout",
     "output_type": "stream",
     "text": [
      "Enter the string: LearnToCodeInPythonProgrammingLanguage\n",
      "\u001b[1mOutput: Learn To Code In Python Programming Language\n"
     ]
    }
   ],
   "source": [
    "def add_spaces(string):\n",
    "    pattern = r\"[A-Z][^A-Z]*\"\n",
    "    word = re.findall(pattern,string)\n",
    "    print(\"\\033[1mOutput:\",' '.join(word))\n",
    "string = input(\"\\033[1mEnter the string: \")\n",
    "add_spaces(string)"
   ]
  },
  {
   "cell_type": "markdown",
   "id": "84e8bb19",
   "metadata": {},
   "source": [
    "Question 24- Python regex to find sequences of one upper case letter followed by lower case letters"
   ]
  },
  {
   "cell_type": "code",
   "execution_count": 216,
   "id": "6d391898",
   "metadata": {},
   "outputs": [
    {
     "name": "stdout",
     "output_type": "stream",
     "text": [
      "Enter the string:  Python programming Language\n",
      "\u001b[1mOutput: Python\n",
      "\u001b[1mOutput: Language\n"
     ]
    }
   ],
   "source": [
    "def pattern(string):\n",
    "    pattern = r'\\b[A-Z]{1}+[a-z]+'\n",
    "    for i in re.finditer(pattern,string):\n",
    "        print('\\033[1mOutput:',i.group())\n",
    "string = input(\"\\033[1mEnter the string: \")\n",
    "pattern(string)   "
   ]
  },
  {
   "cell_type": "markdown",
   "id": "94fd3edf",
   "metadata": {},
   "source": [
    "Question 25- Write a Python program to remove duplicate words from Sentence using Regular Expression"
   ]
  },
  {
   "cell_type": "code",
   "execution_count": 212,
   "id": "f55e33c6",
   "metadata": {},
   "outputs": [
    {
     "name": "stdout",
     "output_type": "stream",
     "text": [
      "Enter the string: hello hello world world\n",
      "\u001b[1mOutput: hello world\n"
     ]
    }
   ],
   "source": [
    "def remove(string):\n",
    "    pattern = r\"\\b(\\w+)\\s(\\1\\b)+\"\n",
    "    output = re.sub(pattern,r'\\1',string)\n",
    "    print('\\033[1mOutput:',output)\n",
    "string = input(\"\\033[1mEnter the string: \")\n",
    "remove(string)"
   ]
  },
  {
   "cell_type": "markdown",
   "id": "8c83f799",
   "metadata": {},
   "source": [
    "Question 26-  Write a python program using RegEx to accept string ending with alphanumeric character."
   ]
  },
  {
   "cell_type": "code",
   "execution_count": 218,
   "id": "e8e708e4",
   "metadata": {},
   "outputs": [
    {
     "name": "stdout",
     "output_type": "stream",
     "text": [
      "Enter the string: Python code 3\n",
      "\u001b[1m Accepted as string ends with alphanumeric character.\n"
     ]
    }
   ],
   "source": [
    "def alphanumeric_string(string):\n",
    "    pattern = r'[a-zA-Z0-9]$'\n",
    "    if re.findall(pattern,string):\n",
    "        print('\\033[1m Accepted as string ends with alphanumeric character.')\n",
    "    else:\n",
    "        print('\\033[1m Discarded as string does not end with alphanumeric character.')\n",
    "    \n",
    "string = input(\"\\033[1mEnter the string: \")\n",
    "alphanumeric_string(string)"
   ]
  },
  {
   "cell_type": "markdown",
   "id": "91ac2400",
   "metadata": {},
   "source": [
    "Question 27-Write a python program using RegEx to extract the hashtags.\n",
    "Sample Text: text = \"\"\"RT @kapil_kausik: #Doltiwal I mean #xyzabc is \"hurt\" by #Demonetization as the same has rendered USELESS <ed><U+00A0><U+00BD><ed><U+00B1><U+0089> \"acquired funds\" No wo\"\"\"\n",
    "Output: ['#Doltiwal', '#xyzabc', '#Demonetization']"
   ]
  },
  {
   "cell_type": "code",
   "execution_count": 229,
   "id": "feb429c2",
   "metadata": {},
   "outputs": [
    {
     "name": "stdout",
     "output_type": "stream",
     "text": [
      "Enter the string: \"\"\"RT @kapil_kausik: #Doltiwal I mean #xyzabc is \"hurt\" by #Demonetization as the same has rendered USELESS <U+00A0><U+00BD><U+00B1><U+0089> \"acquired funds\" No wo\"\"\"\n",
      "\u001b[1mOutput: ['#Doltiwal', '#xyzabc', '#Demonetization']\n"
     ]
    }
   ],
   "source": [
    "def extract_hash(string):\n",
    "    pattern = r'#\\S+'\n",
    "    output = re.findall(pattern,string)\n",
    "    print('\\033[1mOutput:',output)\n",
    "string = input(\"\\033[1mEnter the string: \")\n",
    "extract_hash(string)"
   ]
  },
  {
   "cell_type": "markdown",
   "id": "b9385542",
   "metadata": {},
   "source": [
    "Question 28- Write a python program using RegEx to remove <U+..> like symbols\n",
    "Check the below sample text, there are strange symbols something of the sort <U+..> all over the place. You need to come up with a general Regex expression that will cover all such symbols.\n",
    "Sample Text: \"@Jags123456 Bharat band on 28??<ed><U+00A0><U+00BD><ed><U+00B8><U+0082>Those who  are protesting #demonetization  are all different party leaders\"\n",
    "Output: @Jags123456 Bharat band on 28??<ed><ed>Those who  are protesting #demonetization  are all different party leaders"
   ]
  },
  {
   "cell_type": "code",
   "execution_count": 227,
   "id": "94343fe1",
   "metadata": {},
   "outputs": [
    {
     "name": "stdout",
     "output_type": "stream",
     "text": [
      "Enter the string: @Jags123456 Bharat band on 28??<U+00A0><U+00BD><U+00B8><U+0082>Those who are protesting #demonetization are all different party leaders\n",
      "\u001b[1mOutput: @Jags123456 Bharat band on 28??Those who are protesting #demonetization are all different party leaders\n"
     ]
    }
   ],
   "source": [
    "def remove_symbol(string):\n",
    "    pattern = r'<(.+)>'\n",
    "    output = re.sub(pattern,'',string)\n",
    "    print('\\033[1mOutput:',output)\n",
    "string = input(\"\\033[1mEnter the string: \")\n",
    "remove_symbol(string)"
   ]
  },
  {
   "cell_type": "markdown",
   "id": "eb6e38bf",
   "metadata": {},
   "source": [
    "Question 29- Write a python program to extract dates from the text stored in the text file.\n",
    "Sample Text: Ron was born on 12-09-1992 and he was admitted to school 15-12-1999.\n",
    "Store this sample text in the file and then extract dates."
   ]
  },
  {
   "cell_type": "code",
   "execution_count": 226,
   "id": "0193e39e",
   "metadata": {},
   "outputs": [
    {
     "name": "stdout",
     "output_type": "stream",
     "text": [
      "\u001b[1mDate: ['12-09-1992', '15-12-1999']\n"
     ]
    }
   ],
   "source": [
    "def extract_date(file):\n",
    "    with open(file,'r')as file:\n",
    "        string = file.read()\n",
    "    pattern = r'\\d{2}-\\d{2}-\\d{4}'\n",
    "    output = re.findall(pattern,string)\n",
    "    print('\\033[1mDate:',output)\n",
    "file = 'textfile.txt'\n",
    "extract_date(file)"
   ]
  },
  {
   "cell_type": "markdown",
   "id": "e91368da",
   "metadata": {},
   "source": [
    "Question 30- Write a Python program to replace all occurrences of a space, comma, or dot with a colon.\n",
    "Sample Text- 'Python Exercises, PHP exercises.'\n",
    "Output: Python:Exercises::PHP:exercises:"
   ]
  },
  {
   "cell_type": "code",
   "execution_count": 221,
   "id": "a11fb8cc",
   "metadata": {},
   "outputs": [
    {
     "name": "stdout",
     "output_type": "stream",
     "text": [
      "Enter the string: Python Exercises, PHP exercises.\n",
      "\u001b[1m Python:Exercises::PHP:exercises:\n"
     ]
    }
   ],
   "source": [
    "def replace(string):\n",
    "    pattern = r'[\\s|,|.]'\n",
    "    output = re.sub(pattern,':',string)\n",
    "    print('\\033[1m',output)\n",
    "string = input (\"\\033[1mEnter the string: \")\n",
    "replace(string)"
   ]
  },
  {
   "cell_type": "code",
   "execution_count": null,
   "id": "35f84b4f",
   "metadata": {},
   "outputs": [],
   "source": []
  }
 ],
 "metadata": {
  "kernelspec": {
   "display_name": "Python 3 (ipykernel)",
   "language": "python",
   "name": "python3"
  },
  "language_info": {
   "codemirror_mode": {
    "name": "ipython",
    "version": 3
   },
   "file_extension": ".py",
   "mimetype": "text/x-python",
   "name": "python",
   "nbconvert_exporter": "python",
   "pygments_lexer": "ipython3",
   "version": "3.9.13"
  }
 },
 "nbformat": 4,
 "nbformat_minor": 5
}
